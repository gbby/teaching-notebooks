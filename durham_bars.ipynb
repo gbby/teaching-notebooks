{
 "cells": [
  {
   "cell_type": "markdown",
   "id": "cef8094b-7ad0-4a35-8cb8-f99920aff417",
   "metadata": {},
   "source": [
    "# For Reference \n",
    "\n",
    "### Durham Region\n",
    "- Durham Region census profile https://www12.statcan.gc.ca/census-recensement/2016/dp-pd/prof/details/page.cfm?Lang=E&Geo1=CD&Code1=3518&Geo2=PR&Code2=35&SearchText=durham&SearchType=Begins&SearchPR=01&B1=All&TABID=1&type=0\n",
    "- Durham Region household income table https://www150.statcan.gc.ca/t1/tbl1/en/tv.action?pid=9810005701&pickMembers%5B0%5D=1.2364&pickMembers%5B1%5D=2.1\n",
    "- Durham Region profile https://durhamregion.maps.arcgis.com/apps/MapSeries/index.html?appid=766c906bd2364ea1b9409931fb95c5e2\n",
    "- Durham Region geodata https://opendata.durham.ca/datasets/DurhamRegion::2016-census-durham-region-census-subdivisions/explore?location=44.149904%2C-78.875550%2C10.79&showTable=true\n",
    "\n",
    "### Stats Can\n",
    "- Getting data from Stats Can https://www.youtube.com/watch?v=LZUksqnyPj4\n",
    "- Getting data other than census from Stats Can https://www.youtube.com/watch?v=4jdlqFu6Yak\n",
    "- Stats Can dataset search https://www150.statcan.gc.ca/n1/en/type/data\n",
    "- Choosing census geography https://library.carleton.ca/guides/help/census-canada-choosing-census-geography\n",
    "- Working with census division data https://www150.statcan.gc.ca/n1/pub/92-195-x/2021001/geo/cd-dr/cd-dr-eng.htm\n",
    "- Working with census profile web data service https://www12.statcan.gc.ca/wds-sdw/cpr2016-eng.cfm\n",
    "\n",
    "### Stats Can in Python\n",
    "- Collecting Stats Can data in Python https://towardsdatascience.com/how-to-collect-data-from-statistics-canada-using-python-db8a81ce6475\n",
    "- Comprehensive overview https://www.youtube.com/watch?v=SJzg7HnISxw\n",
    "- stats_can package https://stats-can.readthedocs.io/en/latest/ and https://pypi.org/project/stats-can/ and https://github.com/ianepreston/stats_can\n",
    "- Statscanpy package https://github.com/andrewjdyck/statscanpy"
   ]
  },
  {
   "cell_type": "code",
   "execution_count": 1,
   "id": "5cf40bca-71f3-43f6-a684-c15d5ecc1e5f",
   "metadata": {},
   "outputs": [],
   "source": [
    "# import python libraries\n",
    "import pandas as pd\n",
    "import matplotlib.pyplot as plt\n",
    "import seaborn as sns"
   ]
  },
  {
   "cell_type": "code",
   "execution_count": 2,
   "id": "19645461-2cb6-4471-b629-58fb00f0603d",
   "metadata": {},
   "outputs": [
    {
     "data": {
      "text/html": [
       "<div>\n",
       "<style scoped>\n",
       "    .dataframe tbody tr th:only-of-type {\n",
       "        vertical-align: middle;\n",
       "    }\n",
       "\n",
       "    .dataframe tbody tr th {\n",
       "        vertical-align: top;\n",
       "    }\n",
       "\n",
       "    .dataframe thead th {\n",
       "        text-align: right;\n",
       "    }\n",
       "</style>\n",
       "<table border=\"1\" class=\"dataframe\">\n",
       "  <thead>\n",
       "    <tr style=\"text-align: right;\">\n",
       "      <th></th>\n",
       "      <th>Topic</th>\n",
       "      <th>Characteristics</th>\n",
       "      <th>Total</th>\n",
       "      <th>Male</th>\n",
       "      <th>Female</th>\n",
       "    </tr>\n",
       "  </thead>\n",
       "  <tbody>\n",
       "    <tr>\n",
       "      <th>0</th>\n",
       "      <td>Population and dwellings</td>\n",
       "      <td>Population; 2016</td>\n",
       "      <td>645862.0</td>\n",
       "      <td>NaN</td>\n",
       "      <td>NaN</td>\n",
       "    </tr>\n",
       "    <tr>\n",
       "      <th>1</th>\n",
       "      <td>Population and dwellings</td>\n",
       "      <td>Population; 2011</td>\n",
       "      <td>608124.0</td>\n",
       "      <td>NaN</td>\n",
       "      <td>NaN</td>\n",
       "    </tr>\n",
       "    <tr>\n",
       "      <th>2</th>\n",
       "      <td>Population and dwellings</td>\n",
       "      <td>Population percentage change; 2011 to 2016</td>\n",
       "      <td>6.2</td>\n",
       "      <td>NaN</td>\n",
       "      <td>NaN</td>\n",
       "    </tr>\n",
       "    <tr>\n",
       "      <th>3</th>\n",
       "      <td>Population and dwellings</td>\n",
       "      <td>Total private dwellings</td>\n",
       "      <td>233936.0</td>\n",
       "      <td>NaN</td>\n",
       "      <td>NaN</td>\n",
       "    </tr>\n",
       "    <tr>\n",
       "      <th>4</th>\n",
       "      <td>Population and dwellings</td>\n",
       "      <td>Private dwellings occupied by usual residents</td>\n",
       "      <td>227906.0</td>\n",
       "      <td>NaN</td>\n",
       "      <td>NaN</td>\n",
       "    </tr>\n",
       "    <tr>\n",
       "      <th>5</th>\n",
       "      <td>Population and dwellings</td>\n",
       "      <td>Population density per square kilometre</td>\n",
       "      <td>255.9</td>\n",
       "      <td>NaN</td>\n",
       "      <td>NaN</td>\n",
       "    </tr>\n",
       "    <tr>\n",
       "      <th>6</th>\n",
       "      <td>Population and dwellings</td>\n",
       "      <td>Land area in square kilometres</td>\n",
       "      <td>2523.8</td>\n",
       "      <td>NaN</td>\n",
       "      <td>NaN</td>\n",
       "    </tr>\n",
       "    <tr>\n",
       "      <th>7</th>\n",
       "      <td>Age characteristics</td>\n",
       "      <td>Total - Age groups and average age of the popu...</td>\n",
       "      <td>645865.0</td>\n",
       "      <td>314675.0</td>\n",
       "      <td>331190.0</td>\n",
       "    </tr>\n",
       "    <tr>\n",
       "      <th>8</th>\n",
       "      <td>Age characteristics</td>\n",
       "      <td>0 to 14 years</td>\n",
       "      <td>116185.0</td>\n",
       "      <td>59425.0</td>\n",
       "      <td>56760.0</td>\n",
       "    </tr>\n",
       "    <tr>\n",
       "      <th>9</th>\n",
       "      <td>Age characteristics</td>\n",
       "      <td>0 to 4 years</td>\n",
       "      <td>35695.0</td>\n",
       "      <td>18205.0</td>\n",
       "      <td>17490.0</td>\n",
       "    </tr>\n",
       "  </tbody>\n",
       "</table>\n",
       "</div>"
      ],
      "text/plain": [
       "                      Topic  \\\n",
       "0  Population and dwellings   \n",
       "1  Population and dwellings   \n",
       "2  Population and dwellings   \n",
       "3  Population and dwellings   \n",
       "4  Population and dwellings   \n",
       "5  Population and dwellings   \n",
       "6  Population and dwellings   \n",
       "7       Age characteristics   \n",
       "8       Age characteristics   \n",
       "9       Age characteristics   \n",
       "\n",
       "                                     Characteristics     Total      Male  \\\n",
       "0                                   Population; 2016  645862.0       NaN   \n",
       "1                                   Population; 2011  608124.0       NaN   \n",
       "2         Population percentage change; 2011 to 2016       6.2       NaN   \n",
       "3                            Total private dwellings  233936.0       NaN   \n",
       "4      Private dwellings occupied by usual residents  227906.0       NaN   \n",
       "5            Population density per square kilometre     255.9       NaN   \n",
       "6                     Land area in square kilometres    2523.8       NaN   \n",
       "7  Total - Age groups and average age of the popu...  645865.0  314675.0   \n",
       "8                                      0 to 14 years  116185.0   59425.0   \n",
       "9                                       0 to 4 years   35695.0   18205.0   \n",
       "\n",
       "     Female  \n",
       "0       NaN  \n",
       "1       NaN  \n",
       "2       NaN  \n",
       "3       NaN  \n",
       "4       NaN  \n",
       "5       NaN  \n",
       "6       NaN  \n",
       "7  331190.0  \n",
       "8   56760.0  \n",
       "9   17490.0  "
      ]
     },
     "execution_count": 2,
     "metadata": {},
     "output_type": "execute_result"
    }
   ],
   "source": [
    "# load the datafile\n",
    "df = pd.read_csv('data/durham2016census.csv')\n",
    "df.head(10)"
   ]
  },
  {
   "cell_type": "code",
   "execution_count": 3,
   "id": "cb677a01-d088-4591-9a03-1b9edfc74ab5",
   "metadata": {},
   "outputs": [
    {
     "data": {
      "text/plain": [
       "array(['Population and dwellings', 'Age characteristics',\n",
       "       'Household and dwelling characteristics', 'Marital status',\n",
       "       'Family characteristics', 'Household type',\n",
       "       'Knowledge of official languages',\n",
       "       'First official language spoken', 'Mother tongue',\n",
       "       'Language spoken most often at home',\n",
       "       'Other language spoken regularly at home',\n",
       "       'Income of individuals in 2015', 'Income of households in 2015',\n",
       "       'Income of economic families in 2015', 'Low income in 2015',\n",
       "       'Knowledge of languages', 'Citizenship',\n",
       "       'Immigrant status and period of immigration', 'Age at immigration',\n",
       "       'Immigrants by selected place of birth',\n",
       "       'Recent immigrants by selected places of birth',\n",
       "       'Generation status', 'Admission category and applicant type',\n",
       "       'Aboriginal population', 'Visible minority population',\n",
       "       'Ethnic origin population', 'Household characteristics',\n",
       "       'Highest certificate; diploma or degree',\n",
       "       'Major field of study - Classification of Instructional Programs (CIP) 2016',\n",
       "       'Location of study compared with province or territory of residence with countries outside Canada',\n",
       "       'Labour force status', 'Work activity during the reference year',\n",
       "       'Class of worker',\n",
       "       'Occupation - National Occupational Classification (NOC) 2016',\n",
       "       'Industry - North American Industry Classification System (NAICS) 2012',\n",
       "       'Place of work status', 'Commuting destination',\n",
       "       'Main mode of commuting', 'Commuting duration',\n",
       "       'Time leaving for work', 'Language used most often at work',\n",
       "       'Other language used regularly at work',\n",
       "       'Mobility status - Place of residence 1 year ago',\n",
       "       'Mobility status - Place of residence 5 years ago'], dtype=object)"
      ]
     },
     "execution_count": 3,
     "metadata": {},
     "output_type": "execute_result"
    }
   ],
   "source": [
    "# list the different topics\n",
    "df.Topic.unique()"
   ]
  },
  {
   "cell_type": "markdown",
   "id": "54891445-2445-4966-bfbd-7b3b4e3d6386",
   "metadata": {},
   "source": [
    "# Visualize the Visible Minority Population in Durham Region"
   ]
  },
  {
   "cell_type": "code",
   "execution_count": 4,
   "id": "a978dccc-4cf6-4d8b-9030-e59deddc32c1",
   "metadata": {},
   "outputs": [
    {
     "data": {
      "text/html": [
       "<div>\n",
       "<style scoped>\n",
       "    .dataframe tbody tr th:only-of-type {\n",
       "        vertical-align: middle;\n",
       "    }\n",
       "\n",
       "    .dataframe tbody tr th {\n",
       "        vertical-align: top;\n",
       "    }\n",
       "\n",
       "    .dataframe thead th {\n",
       "        text-align: right;\n",
       "    }\n",
       "</style>\n",
       "<table border=\"1\" class=\"dataframe\">\n",
       "  <thead>\n",
       "    <tr style=\"text-align: right;\">\n",
       "      <th></th>\n",
       "      <th>Topic</th>\n",
       "      <th>Characteristics</th>\n",
       "      <th>Total</th>\n",
       "      <th>Male</th>\n",
       "      <th>Female</th>\n",
       "    </tr>\n",
       "  </thead>\n",
       "  <tbody>\n",
       "    <tr>\n",
       "      <th>1322</th>\n",
       "      <td>Visible minority population</td>\n",
       "      <td>Total - Visible minority for the population in...</td>\n",
       "      <td>639495.0</td>\n",
       "      <td>312280.0</td>\n",
       "      <td>327210.0</td>\n",
       "    </tr>\n",
       "    <tr>\n",
       "      <th>1323</th>\n",
       "      <td>Visible minority population</td>\n",
       "      <td>Total visible minority population</td>\n",
       "      <td>173330.0</td>\n",
       "      <td>84430.0</td>\n",
       "      <td>88900.0</td>\n",
       "    </tr>\n",
       "    <tr>\n",
       "      <th>1324</th>\n",
       "      <td>Visible minority population</td>\n",
       "      <td>South Asian</td>\n",
       "      <td>55025.0</td>\n",
       "      <td>27625.0</td>\n",
       "      <td>27395.0</td>\n",
       "    </tr>\n",
       "    <tr>\n",
       "      <th>1325</th>\n",
       "      <td>Visible minority population</td>\n",
       "      <td>Chinese</td>\n",
       "      <td>12105.0</td>\n",
       "      <td>5785.0</td>\n",
       "      <td>6315.0</td>\n",
       "    </tr>\n",
       "    <tr>\n",
       "      <th>1326</th>\n",
       "      <td>Visible minority population</td>\n",
       "      <td>Black</td>\n",
       "      <td>51380.0</td>\n",
       "      <td>24385.0</td>\n",
       "      <td>27000.0</td>\n",
       "    </tr>\n",
       "  </tbody>\n",
       "</table>\n",
       "</div>"
      ],
      "text/plain": [
       "                            Topic  \\\n",
       "1322  Visible minority population   \n",
       "1323  Visible minority population   \n",
       "1324  Visible minority population   \n",
       "1325  Visible minority population   \n",
       "1326  Visible minority population   \n",
       "\n",
       "                                        Characteristics     Total      Male  \\\n",
       "1322  Total - Visible minority for the population in...  639495.0  312280.0   \n",
       "1323                  Total visible minority population  173330.0   84430.0   \n",
       "1324                                        South Asian   55025.0   27625.0   \n",
       "1325                                            Chinese   12105.0    5785.0   \n",
       "1326                                              Black   51380.0   24385.0   \n",
       "\n",
       "        Female  \n",
       "1322  327210.0  \n",
       "1323   88900.0  \n",
       "1324   27395.0  \n",
       "1325    6315.0  \n",
       "1326   27000.0  "
      ]
     },
     "execution_count": 4,
     "metadata": {},
     "output_type": "execute_result"
    }
   ],
   "source": [
    "# make a dataframe from the topic \"Visible minority population\"\n",
    "minority = df[df.Topic == 'Visible minority population']\n",
    "minority.head()"
   ]
  },
  {
   "cell_type": "code",
   "execution_count": 5,
   "id": "32e61fb0-0026-4070-8655-da2b162be740",
   "metadata": {},
   "outputs": [
    {
     "data": {
      "image/png": "[encoded data removed]",
      "text/plain": [
       "<Figure size 2000x1000 with 1 Axes>"
      ]
     },
     "metadata": {},
     "output_type": "display_data"
    }
   ],
   "source": [
    "# Set the figure size\n",
    "plt.figure(figsize=(20, 10))\n",
    "\n",
    "# Make a bar chart using seaborn\n",
    "sns.barplot(\n",
    "    x=\"Total\", \n",
    "    y=\"Characteristics\", \n",
    "    data=minority.drop(1322), # dropping 1322 gets rid of the unnecessary 'total - visible minority...'\n",
    "    color='#69b3a2'\n",
    ");"
   ]
  },
  {
   "cell_type": "markdown",
   "id": "bd3d0211-856c-4176-9214-24daf4043459",
   "metadata": {},
   "source": [
    "# Alternative Approaches to Getting Stats Can Census Data"
   ]
  },
  {
   "cell_type": "code",
   "execution_count": 8,
   "id": "8c54f9b0-604b-4c3a-bc5f-4fb13e6518df",
   "metadata": {},
   "outputs": [
    {
     "name": "stdout",
     "output_type": "stream",
     "text": [
      "/home/gbby/Documents/Research/Infovis/Python/Teaching Notebooks/stats_can.h5 does not exist\n"
     ]
    },
    {
     "name": "stderr",
     "output_type": "stream",
     "text": [
      "43100026-eng.zip:   1%|▏                     | 3.66M/424M [00:07<11:21, 617kB/s]"
     ]
    },
    {
     "ename": "KeyboardInterrupt",
     "evalue": "",
     "output_type": "error",
     "traceback": [
      "\u001b[0;31m---------------------------------------------------------------------------\u001b[0m",
      "\u001b[0;31mKeyboardInterrupt\u001b[0m                         Traceback (most recent call last)",
      "Cell \u001b[0;32mIn[8], line 6\u001b[0m\n\u001b[1;32m      3\u001b[0m \u001b[38;5;28;01mfrom\u001b[39;00m \u001b[38;5;21;01mstats_can\u001b[39;00m \u001b[38;5;28;01mimport\u001b[39;00m StatsCan\n\u001b[1;32m      4\u001b[0m sc \u001b[38;5;241m=\u001b[39m StatsCan()\n\u001b[0;32m----> 6\u001b[0m df \u001b[38;5;241m=\u001b[39m \u001b[43msc\u001b[49m\u001b[38;5;241;43m.\u001b[39;49m\u001b[43mvectors_to_df\u001b[49m\u001b[43m(\u001b[49m\u001b[43m[\u001b[49m\u001b[38;5;124;43m\"\u001b[39;49m\u001b[38;5;124;43mv1236788005\u001b[39;49m\u001b[38;5;124;43m\"\u001b[39;49m\u001b[43m,\u001b[49m\u001b[43m \u001b[49m\u001b[38;5;124;43m\"\u001b[39;49m\u001b[38;5;124;43mv1236788038\u001b[39;49m\u001b[38;5;124;43m\"\u001b[39;49m\u001b[43m,\u001b[49m\u001b[43m \u001b[49m\u001b[38;5;124;43m\"\u001b[39;49m\u001b[38;5;124;43mv1236788049\u001b[39;49m\u001b[38;5;124;43m\"\u001b[39;49m\u001b[43m]\u001b[49m\u001b[43m)\u001b[49m\n\u001b[1;32m      7\u001b[0m df\u001b[38;5;241m.\u001b[39mcolumns \u001b[38;5;241m=\u001b[39m [\u001b[38;5;124m'\u001b[39m\u001b[38;5;124mTotal\u001b[39m\u001b[38;5;124m'\u001b[39m, \u001b[38;5;124m'\u001b[39m\u001b[38;5;124mSponsored\u001b[39m\u001b[38;5;124m'\u001b[39m, \u001b[38;5;124m'\u001b[39m\u001b[38;5;124mOther\u001b[39m\u001b[38;5;124m'\u001b[39m]\n\u001b[1;32m      8\u001b[0m df\u001b[38;5;241m.\u001b[39mindex\u001b[38;5;241m.\u001b[39mnames \u001b[38;5;241m=\u001b[39m [\u001b[38;5;124m'\u001b[39m\u001b[38;5;124mYear\u001b[39m\u001b[38;5;124m'\u001b[39m]\n",
      "File \u001b[0;32m~/.local/lib/python3.10/site-packages/stats_can/api_class.py:112\u001b[0m, in \u001b[0;36mStatsCan.vectors_to_df\u001b[0;34m(self, vectors, start_date)\u001b[0m\n\u001b[1;32m     94\u001b[0m \u001b[38;5;28;01mdef\u001b[39;00m \u001b[38;5;21mvectors_to_df\u001b[39m(\u001b[38;5;28mself\u001b[39m, vectors, start_date\u001b[38;5;241m=\u001b[39m\u001b[38;5;28;01mNone\u001b[39;00m):\n\u001b[1;32m     95\u001b[0m     \u001b[38;5;124;03m\"\"\"Get a dataframe of V#s.\u001b[39;00m\n\u001b[1;32m     96\u001b[0m \n\u001b[1;32m     97\u001b[0m \u001b[38;5;124;03m    Parameters\u001b[39;00m\n\u001b[0;32m   (...)\u001b[0m\n\u001b[1;32m    110\u001b[0m \u001b[38;5;124;03m    have their tables downloaded prior to returning the dataframe\u001b[39;00m\n\u001b[1;32m    111\u001b[0m \u001b[38;5;124;03m    \"\"\"\u001b[39;00m\n\u001b[0;32m--> 112\u001b[0m     \u001b[38;5;28;01mreturn\u001b[39;00m \u001b[43msc\u001b[49m\u001b[38;5;241;43m.\u001b[39;49m\u001b[43mvectors_to_df_local\u001b[49m\u001b[43m(\u001b[49m\n\u001b[1;32m    113\u001b[0m \u001b[43m        \u001b[49m\u001b[43mvectors\u001b[49m\u001b[38;5;241;43m=\u001b[39;49m\u001b[43mvectors\u001b[49m\u001b[43m,\u001b[49m\n\u001b[1;32m    114\u001b[0m \u001b[43m        \u001b[49m\u001b[43mpath\u001b[49m\u001b[38;5;241;43m=\u001b[39;49m\u001b[38;5;28;43mself\u001b[39;49m\u001b[38;5;241;43m.\u001b[39;49m\u001b[43mdata_folder\u001b[49m\u001b[43m,\u001b[49m\n\u001b[1;32m    115\u001b[0m \u001b[43m        \u001b[49m\u001b[43mstart_date\u001b[49m\u001b[38;5;241;43m=\u001b[39;49m\u001b[43mstart_date\u001b[49m\u001b[43m,\u001b[49m\n\u001b[1;32m    116\u001b[0m \u001b[43m        \u001b[49m\u001b[43mh5file\u001b[49m\u001b[38;5;241;43m=\u001b[39;49m\u001b[38;5;124;43m\"\u001b[39;49m\u001b[38;5;124;43mstats_can.h5\u001b[39;49m\u001b[38;5;124;43m\"\u001b[39;49m\u001b[43m,\u001b[49m\n\u001b[1;32m    117\u001b[0m \u001b[43m    \u001b[49m\u001b[43m)\u001b[49m\n",
      "File \u001b[0;32m~/.local/lib/python3.10/site-packages/stats_can/sc.py:653\u001b[0m, in \u001b[0;36mvectors_to_df_local\u001b[0;34m(vectors, path, start_date, h5file)\u001b[0m\n\u001b[1;32m    651\u001b[0m     existing_tables \u001b[38;5;241m=\u001b[39m [t[\u001b[38;5;124m\"\u001b[39m\u001b[38;5;124mproductId\u001b[39m\u001b[38;5;124m\"\u001b[39m] \u001b[38;5;28;01mfor\u001b[39;00m t \u001b[38;5;129;01min\u001b[39;00m meta]\n\u001b[1;32m    652\u001b[0m     to_download_tables \u001b[38;5;241m=\u001b[39m \u001b[38;5;28mlist\u001b[39m(\u001b[38;5;28mset\u001b[39m(tables) \u001b[38;5;241m-\u001b[39m \u001b[38;5;28mset\u001b[39m(existing_tables))\n\u001b[0;32m--> 653\u001b[0m     \u001b[43mtables_to_h5\u001b[49m\u001b[43m(\u001b[49m\u001b[43mto_download_tables\u001b[49m\u001b[43m,\u001b[49m\u001b[43m \u001b[49m\u001b[43mh5file\u001b[49m\u001b[38;5;241;43m=\u001b[39;49m\u001b[43mh5file\u001b[49m\u001b[43m,\u001b[49m\u001b[43m \u001b[49m\u001b[43mpath\u001b[49m\u001b[38;5;241;43m=\u001b[39;49m\u001b[43mpath\u001b[49m\u001b[43m)\u001b[49m\n\u001b[1;32m    654\u001b[0m \u001b[38;5;28;01mfor\u001b[39;00m table \u001b[38;5;129;01min\u001b[39;00m tables:\n\u001b[1;32m    655\u001b[0m     \u001b[38;5;28;01mif\u001b[39;00m h5file:\n",
      "File \u001b[0;32m~/.local/lib/python3.10/site-packages/stats_can/sc.py:286\u001b[0m, in \u001b[0;36mtables_to_h5\u001b[0;34m(tables, h5file, path)\u001b[0m\n\u001b[1;32m    284\u001b[0m json_file \u001b[38;5;241m=\u001b[39m path \u001b[38;5;241m/\u001b[39m json_file\n\u001b[1;32m    285\u001b[0m \u001b[38;5;28;01mif\u001b[39;00m \u001b[38;5;129;01mnot\u001b[39;00m json_file\u001b[38;5;241m.\u001b[39mis_file():\n\u001b[0;32m--> 286\u001b[0m     \u001b[43mdownload_tables\u001b[49m\u001b[43m(\u001b[49m\u001b[43m[\u001b[49m\u001b[43mtable\u001b[49m\u001b[43m]\u001b[49m\u001b[43m,\u001b[49m\u001b[43m \u001b[49m\u001b[43mpath\u001b[49m\u001b[43m)\u001b[49m\n\u001b[1;32m    287\u001b[0m df \u001b[38;5;241m=\u001b[39m zip_table_to_dataframe(table, path\u001b[38;5;241m=\u001b[39mpath)\n\u001b[1;32m    288\u001b[0m \u001b[38;5;28;01mwith\u001b[39;00m \u001b[38;5;28mopen\u001b[39m(json_file) \u001b[38;5;28;01mas\u001b[39;00m f_name:\n",
      "File \u001b[0;32m~/.local/lib/python3.10/site-packages/stats_can/sc.py:116\u001b[0m, in \u001b[0;36mdownload_tables\u001b[0;34m(tables, path, csv)\u001b[0m\n\u001b[1;32m    114\u001b[0m     json\u001b[38;5;241m.\u001b[39mdump(meta, outfile)\n\u001b[1;32m    115\u001b[0m \u001b[38;5;28;01mwith\u001b[39;00m \u001b[38;5;28mopen\u001b[39m(zip_file, \u001b[38;5;124m\"\u001b[39m\u001b[38;5;124mwb\u001b[39m\u001b[38;5;124m\"\u001b[39m) \u001b[38;5;28;01mas\u001b[39;00m handle:\n\u001b[0;32m--> 116\u001b[0m     \u001b[38;5;28;01mfor\u001b[39;00m chunk \u001b[38;5;129;01min\u001b[39;00m response\u001b[38;5;241m.\u001b[39miter_content(chunk_size\u001b[38;5;241m=\u001b[39m\u001b[38;5;241m512\u001b[39m):\n\u001b[1;32m    117\u001b[0m         \u001b[38;5;28;01mif\u001b[39;00m chunk:  \u001b[38;5;66;03m# filter out keep-alive new chunks\u001b[39;00m\n\u001b[1;32m    118\u001b[0m             handle\u001b[38;5;241m.\u001b[39mwrite(chunk)\n",
      "File \u001b[0;32m~/.local/lib/python3.10/site-packages/requests/models.py:816\u001b[0m, in \u001b[0;36mResponse.iter_content.<locals>.generate\u001b[0;34m()\u001b[0m\n\u001b[1;32m    814\u001b[0m \u001b[38;5;28;01mif\u001b[39;00m \u001b[38;5;28mhasattr\u001b[39m(\u001b[38;5;28mself\u001b[39m\u001b[38;5;241m.\u001b[39mraw, \u001b[38;5;124m\"\u001b[39m\u001b[38;5;124mstream\u001b[39m\u001b[38;5;124m\"\u001b[39m):\n\u001b[1;32m    815\u001b[0m     \u001b[38;5;28;01mtry\u001b[39;00m:\n\u001b[0;32m--> 816\u001b[0m         \u001b[38;5;28;01myield from\u001b[39;00m \u001b[38;5;28mself\u001b[39m\u001b[38;5;241m.\u001b[39mraw\u001b[38;5;241m.\u001b[39mstream(chunk_size, decode_content\u001b[38;5;241m=\u001b[39m\u001b[38;5;28;01mTrue\u001b[39;00m)\n\u001b[1;32m    817\u001b[0m     \u001b[38;5;28;01mexcept\u001b[39;00m ProtocolError \u001b[38;5;28;01mas\u001b[39;00m e:\n\u001b[1;32m    818\u001b[0m         \u001b[38;5;28;01mraise\u001b[39;00m ChunkedEncodingError(e)\n",
      "File \u001b[0;32m/usr/lib/python3/dist-packages/urllib3/response.py:576\u001b[0m, in \u001b[0;36mHTTPResponse.stream\u001b[0;34m(self, amt, decode_content)\u001b[0m\n\u001b[1;32m    574\u001b[0m \u001b[38;5;28;01melse\u001b[39;00m:\n\u001b[1;32m    575\u001b[0m     \u001b[38;5;28;01mwhile\u001b[39;00m \u001b[38;5;129;01mnot\u001b[39;00m is_fp_closed(\u001b[38;5;28mself\u001b[39m\u001b[38;5;241m.\u001b[39m_fp):\n\u001b[0;32m--> 576\u001b[0m         data \u001b[38;5;241m=\u001b[39m \u001b[38;5;28;43mself\u001b[39;49m\u001b[38;5;241;43m.\u001b[39;49m\u001b[43mread\u001b[49m\u001b[43m(\u001b[49m\u001b[43mamt\u001b[49m\u001b[38;5;241;43m=\u001b[39;49m\u001b[43mamt\u001b[49m\u001b[43m,\u001b[49m\u001b[43m \u001b[49m\u001b[43mdecode_content\u001b[49m\u001b[38;5;241;43m=\u001b[39;49m\u001b[43mdecode_content\u001b[49m\u001b[43m)\u001b[49m\n\u001b[1;32m    578\u001b[0m         \u001b[38;5;28;01mif\u001b[39;00m data:\n\u001b[1;32m    579\u001b[0m             \u001b[38;5;28;01myield\u001b[39;00m data\n",
      "File \u001b[0;32m/usr/lib/python3/dist-packages/urllib3/response.py:519\u001b[0m, in \u001b[0;36mHTTPResponse.read\u001b[0;34m(self, amt, decode_content, cache_content)\u001b[0m\n\u001b[1;32m    517\u001b[0m \u001b[38;5;28;01melse\u001b[39;00m:\n\u001b[1;32m    518\u001b[0m     cache_content \u001b[38;5;241m=\u001b[39m \u001b[38;5;28;01mFalse\u001b[39;00m\n\u001b[0;32m--> 519\u001b[0m     data \u001b[38;5;241m=\u001b[39m \u001b[38;5;28;43mself\u001b[39;49m\u001b[38;5;241;43m.\u001b[39;49m\u001b[43m_fp\u001b[49m\u001b[38;5;241;43m.\u001b[39;49m\u001b[43mread\u001b[49m\u001b[43m(\u001b[49m\u001b[43mamt\u001b[49m\u001b[43m)\u001b[49m \u001b[38;5;28;01mif\u001b[39;00m \u001b[38;5;129;01mnot\u001b[39;00m fp_closed \u001b[38;5;28;01melse\u001b[39;00m \u001b[38;5;124mb\u001b[39m\u001b[38;5;124m\"\u001b[39m\u001b[38;5;124m\"\u001b[39m\n\u001b[1;32m    520\u001b[0m     \u001b[38;5;28;01mif\u001b[39;00m (\n\u001b[1;32m    521\u001b[0m         amt \u001b[38;5;241m!=\u001b[39m \u001b[38;5;241m0\u001b[39m \u001b[38;5;129;01mand\u001b[39;00m \u001b[38;5;129;01mnot\u001b[39;00m data\n\u001b[1;32m    522\u001b[0m     ):  \u001b[38;5;66;03m# Platform-specific: Buggy versions of Python.\u001b[39;00m\n\u001b[0;32m   (...)\u001b[0m\n\u001b[1;32m    528\u001b[0m         \u001b[38;5;66;03m# not properly close the connection in all cases. There is\u001b[39;00m\n\u001b[1;32m    529\u001b[0m         \u001b[38;5;66;03m# no harm in redundantly calling close.\u001b[39;00m\n\u001b[1;32m    530\u001b[0m         \u001b[38;5;28mself\u001b[39m\u001b[38;5;241m.\u001b[39m_fp\u001b[38;5;241m.\u001b[39mclose()\n",
      "File \u001b[0;32m/usr/lib/python3.10/http/client.py:466\u001b[0m, in \u001b[0;36mHTTPResponse.read\u001b[0;34m(self, amt)\u001b[0m\n\u001b[1;32m    463\u001b[0m \u001b[38;5;28;01mif\u001b[39;00m \u001b[38;5;28mself\u001b[39m\u001b[38;5;241m.\u001b[39mlength \u001b[38;5;129;01mis\u001b[39;00m \u001b[38;5;129;01mnot\u001b[39;00m \u001b[38;5;28;01mNone\u001b[39;00m \u001b[38;5;129;01mand\u001b[39;00m amt \u001b[38;5;241m>\u001b[39m \u001b[38;5;28mself\u001b[39m\u001b[38;5;241m.\u001b[39mlength:\n\u001b[1;32m    464\u001b[0m     \u001b[38;5;66;03m# clip the read to the \"end of response\"\u001b[39;00m\n\u001b[1;32m    465\u001b[0m     amt \u001b[38;5;241m=\u001b[39m \u001b[38;5;28mself\u001b[39m\u001b[38;5;241m.\u001b[39mlength\n\u001b[0;32m--> 466\u001b[0m s \u001b[38;5;241m=\u001b[39m \u001b[38;5;28;43mself\u001b[39;49m\u001b[38;5;241;43m.\u001b[39;49m\u001b[43mfp\u001b[49m\u001b[38;5;241;43m.\u001b[39;49m\u001b[43mread\u001b[49m\u001b[43m(\u001b[49m\u001b[43mamt\u001b[49m\u001b[43m)\u001b[49m\n\u001b[1;32m    467\u001b[0m \u001b[38;5;28;01mif\u001b[39;00m \u001b[38;5;129;01mnot\u001b[39;00m s \u001b[38;5;129;01mand\u001b[39;00m amt:\n\u001b[1;32m    468\u001b[0m     \u001b[38;5;66;03m# Ideally, we would raise IncompleteRead if the content-length\u001b[39;00m\n\u001b[1;32m    469\u001b[0m     \u001b[38;5;66;03m# wasn't satisfied, but it might break compatibility.\u001b[39;00m\n\u001b[1;32m    470\u001b[0m     \u001b[38;5;28mself\u001b[39m\u001b[38;5;241m.\u001b[39m_close_conn()\n",
      "File \u001b[0;32m/usr/lib/python3.10/socket.py:705\u001b[0m, in \u001b[0;36mSocketIO.readinto\u001b[0;34m(self, b)\u001b[0m\n\u001b[1;32m    703\u001b[0m \u001b[38;5;28;01mwhile\u001b[39;00m \u001b[38;5;28;01mTrue\u001b[39;00m:\n\u001b[1;32m    704\u001b[0m     \u001b[38;5;28;01mtry\u001b[39;00m:\n\u001b[0;32m--> 705\u001b[0m         \u001b[38;5;28;01mreturn\u001b[39;00m \u001b[38;5;28;43mself\u001b[39;49m\u001b[38;5;241;43m.\u001b[39;49m\u001b[43m_sock\u001b[49m\u001b[38;5;241;43m.\u001b[39;49m\u001b[43mrecv_into\u001b[49m\u001b[43m(\u001b[49m\u001b[43mb\u001b[49m\u001b[43m)\u001b[49m\n\u001b[1;32m    706\u001b[0m     \u001b[38;5;28;01mexcept\u001b[39;00m timeout:\n\u001b[1;32m    707\u001b[0m         \u001b[38;5;28mself\u001b[39m\u001b[38;5;241m.\u001b[39m_timeout_occurred \u001b[38;5;241m=\u001b[39m \u001b[38;5;28;01mTrue\u001b[39;00m\n",
      "File \u001b[0;32m/usr/lib/python3.10/ssl.py:1274\u001b[0m, in \u001b[0;36mSSLSocket.recv_into\u001b[0;34m(self, buffer, nbytes, flags)\u001b[0m\n\u001b[1;32m   1270\u001b[0m     \u001b[38;5;28;01mif\u001b[39;00m flags \u001b[38;5;241m!=\u001b[39m \u001b[38;5;241m0\u001b[39m:\n\u001b[1;32m   1271\u001b[0m         \u001b[38;5;28;01mraise\u001b[39;00m \u001b[38;5;167;01mValueError\u001b[39;00m(\n\u001b[1;32m   1272\u001b[0m           \u001b[38;5;124m\"\u001b[39m\u001b[38;5;124mnon-zero flags not allowed in calls to recv_into() on \u001b[39m\u001b[38;5;132;01m%s\u001b[39;00m\u001b[38;5;124m\"\u001b[39m \u001b[38;5;241m%\u001b[39m\n\u001b[1;32m   1273\u001b[0m           \u001b[38;5;28mself\u001b[39m\u001b[38;5;241m.\u001b[39m\u001b[38;5;18m__class__\u001b[39m)\n\u001b[0;32m-> 1274\u001b[0m     \u001b[38;5;28;01mreturn\u001b[39;00m \u001b[38;5;28;43mself\u001b[39;49m\u001b[38;5;241;43m.\u001b[39;49m\u001b[43mread\u001b[49m\u001b[43m(\u001b[49m\u001b[43mnbytes\u001b[49m\u001b[43m,\u001b[49m\u001b[43m \u001b[49m\u001b[43mbuffer\u001b[49m\u001b[43m)\u001b[49m\n\u001b[1;32m   1275\u001b[0m \u001b[38;5;28;01melse\u001b[39;00m:\n\u001b[1;32m   1276\u001b[0m     \u001b[38;5;28;01mreturn\u001b[39;00m \u001b[38;5;28msuper\u001b[39m()\u001b[38;5;241m.\u001b[39mrecv_into(buffer, nbytes, flags)\n",
      "File \u001b[0;32m/usr/lib/python3.10/ssl.py:1130\u001b[0m, in \u001b[0;36mSSLSocket.read\u001b[0;34m(self, len, buffer)\u001b[0m\n\u001b[1;32m   1128\u001b[0m \u001b[38;5;28;01mtry\u001b[39;00m:\n\u001b[1;32m   1129\u001b[0m     \u001b[38;5;28;01mif\u001b[39;00m buffer \u001b[38;5;129;01mis\u001b[39;00m \u001b[38;5;129;01mnot\u001b[39;00m \u001b[38;5;28;01mNone\u001b[39;00m:\n\u001b[0;32m-> 1130\u001b[0m         \u001b[38;5;28;01mreturn\u001b[39;00m \u001b[38;5;28;43mself\u001b[39;49m\u001b[38;5;241;43m.\u001b[39;49m\u001b[43m_sslobj\u001b[49m\u001b[38;5;241;43m.\u001b[39;49m\u001b[43mread\u001b[49m\u001b[43m(\u001b[49m\u001b[38;5;28;43mlen\u001b[39;49m\u001b[43m,\u001b[49m\u001b[43m \u001b[49m\u001b[43mbuffer\u001b[49m\u001b[43m)\u001b[49m\n\u001b[1;32m   1131\u001b[0m     \u001b[38;5;28;01melse\u001b[39;00m:\n\u001b[1;32m   1132\u001b[0m         \u001b[38;5;28;01mreturn\u001b[39;00m \u001b[38;5;28mself\u001b[39m\u001b[38;5;241m.\u001b[39m_sslobj\u001b[38;5;241m.\u001b[39mread(\u001b[38;5;28mlen\u001b[39m)\n",
      "\u001b[0;31mKeyboardInterrupt\u001b[0m: "
     ]
    },
    {
     "name": "stderr",
     "output_type": "stream",
     "text": [
      "43100026-eng.zip:   1%|▏                     | 3.75M/424M [00:19<11:21, 617kB/s]"
     ]
    }
   ],
   "source": [
    "# create dataframes from vectors\n",
    "# https://www150.statcan.gc.ca/t1/tbl1/en/cv.action?pid=4310002601\n",
    "from stats_can import StatsCan\n",
    "sc = StatsCan()\n",
    "\n",
    "df = sc.vectors_to_df([\"v1236788005\", \"v1236788038\", \"v1236788049\"], periods = 22)\n",
    "df.columns = ['Total', 'Sponsored', 'Other']\n",
    "df.index.names = ['Year']\n",
    "df.head()"
   ]
  },
  {
   "cell_type": "code",
   "execution_count": null,
   "id": "7718219e-5894-438e-8cf8-9658eab8afa5",
   "metadata": {},
   "outputs": [],
   "source": [
    "# Initiate the statscanpy class\n",
    "census = scp.Census()\n",
    "\n",
    "# Get Census profile data with default parameters\n",
    "result = census.get_cpr_geo()\n",
    "#print(result)\n",
    "\n",
    "# Census geographies\n",
    "geos = census.get_census_geo()\n",
    "#print(geos)\n",
    "\n",
    "# Census indicators\n",
    "ind = census.get_census_indicator()\n",
    "#print(ind)\n",
    "\n",
    "# Ontario, 2016\n",
    "ontario = census.get_cpr_geo(dguid='2016A000235')\n",
    "toronto = census.get_cpr_geo(dguid='2016A00033520')\n",
    "durham = census.get_cpr_geo(dguid='2016A00033518')\n",
    "#print(durham)"
   ]
  }
 ],
 "metadata": {
  "kernelspec": {
   "display_name": "Python 3 (ipykernel)",
   "language": "python",
   "name": "python3"
  },
  "language_info": {
   "codemirror_mode": {
    "name": "ipython",
    "version": 3
   },
   "file_extension": ".py",
   "mimetype": "text/x-python",
   "name": "python",
   "nbconvert_exporter": "python",
   "pygments_lexer": "ipython3",
   "version": "3.10.12"
  }
 },
 "nbformat": 4,
 "nbformat_minor": 5
}
