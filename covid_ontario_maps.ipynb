{
 "cells": [
  {
   "cell_type": "code",
   "execution_count": 1,
   "id": "dressed-school",
   "metadata": {},
   "outputs": [],
   "source": [
    "# comparisons\n",
    "# https://docs.google.com/spreadsheets/u/1/d/e/2PACX-1vTX5x2nxCde90Zwo83cdixZsyd_hU1orGsGYKpDe344wHeFi9MqI71aZYC6GLjOV_P2lp6_lUoacPNa/pubhtml?gid=1467787327&single=true\n",
    "# https://twitter.com/jkwan_md/status/1312035412274221058?s=21\n",
    "# https://russell-pollari.github.io/ontario-covid19/\n",
    "\n",
    "# prune these\n",
    "import pandas as pd\n",
    "import numpy as np\n",
    "import urllib, json\n",
    "import matplotlib.pyplot as plt\n",
    "import matplotlib.colors as mcolors\n",
    "from mpl_toolkits.mplot3d import Axes3D\n",
    "# from mpl_toolkits.basemap import Basemap\n",
    "from matplotlib.collections import PolyCollection\n",
    "import seaborn as sns\n",
    "import datetime as dt\n",
    "import geopandas as gpd\n",
    "from geopandas import GeoDataFrame\n",
    "import folium\n",
    "from shapely.geometry import Point, Polygon\n",
    "from keplergl import KeplerGl\n",
    "\n",
    "import plotly.express as px\n",
    "\n",
    "# set the standard plot size\n",
    "plt.rcParams['figure.figsize']=(30,15)"
   ]
  },
  {
   "cell_type": "code",
   "execution_count": 2,
   "id": "double-transcription",
   "metadata": {},
   "outputs": [],
   "source": [
    "# get the \"Confirmed positive cases of COVID19 in Ontario\" data\n",
    "# https://data.ontario.ca/en/dataset/confirmed-positive-cases-of-covid-19-in-ontario\n",
    "# import data using the ontario open data API\n",
    "# make sure to check the limit against current cases\n",
    "url = \"https://data.ontario.ca/en/api/3/action/datastore_search?resource_id=455fd63b-603d-4608-8216-7d8647f43350&limit=600000\"\n",
    "response = urllib.request.urlopen(url)\n",
    "data = json.loads(response.read().decode('utf-8'))\n",
    "\n",
    "# use this if you want to see the json\n",
    "# print (data['result']['records'])\n",
    "\n",
    "# use this if you want to write it to a pandas dataframe\n",
    "conpos_df = pd.DataFrame(data['result']['records'])"
   ]
  },
  {
   "cell_type": "code",
   "execution_count": 3,
   "id": "outdoor-aggregate",
   "metadata": {},
   "outputs": [],
   "source": [
    "# get the \"Status of COVID-19 Cases in Ontario\" data\n",
    "# https://data.ontario.ca/dataset/status-of-covid-19-cases-in-ontario\n",
    "# make sure to check the limit against current cases\n",
    "url = \"https://data.ontario.ca/en/api/3/action/datastore_search?resource_id=ed270bb8-340b-41f9-a7c6-e8ef587e6d11&limit=600000\"\n",
    "response = urllib.request.urlopen(url)\n",
    "data = json.loads(response.read().decode('utf-8'))\n",
    "\n",
    "# use this if you want to see the json\n",
    "# print (data['result']['records'])\n",
    "\n",
    "status_df = pd.DataFrame(data['result']['records'])"
   ]
  },
  {
   "cell_type": "code",
   "execution_count": 4,
   "id": "rotary-preparation",
   "metadata": {},
   "outputs": [],
   "source": [
    "# sort by date\n",
    "conpos_df = conpos_df.sort_values(by=['Accurate_Episode_Date'], ascending=False);\n",
    "status_df = status_df.sort_values(by=['Reported Date'], ascending=True);"
   ]
  },
  {
   "cell_type": "code",
   "execution_count": 5,
   "id": "experimental-interaction",
   "metadata": {},
   "outputs": [],
   "source": [
    "# set the dates to datetime64 for later use\n",
    "conpos_df[\"Accurate_Episode_Date\"] = conpos_df[\"Accurate_Episode_Date\"].astype(\"datetime64\")\n",
    "conpos_df[\"Case_Reported_Date\"] = conpos_df[\"Case_Reported_Date\"].astype(\"datetime64\")\n",
    "conpos_df[\"Test_Reported_Date\"] = conpos_df[\"Test_Reported_Date\"].astype(\"datetime64\")\n",
    "conpos_df[\"Specimen_Date\"] = conpos_df[\"Specimen_Date\"].astype(\"datetime64\")"
   ]
  },
  {
   "cell_type": "markdown",
   "id": "patent-choice",
   "metadata": {},
   "source": [
    "## Some Geodata Resources\n",
    "\n",
    "- U of T map and data library resources https://mdl.library.utoronto.ca/collections/numeric-data/census-canada/2016/geo\n",
    "- where to get geojson files https://stackoverflow.com/questions/17267248/how-where-do-i-get-geojson-data-for-states-provinces-and-administrative-region\n",
    "- creating geojson from canada census divisions\n",
    "https://blog.exploratory.io/making-maps-for-canadas-provisions-and-census-divisions-in-r-c189b88ccd8a\n",
    "- creating geojson for toronto area codes https://medium.com/dataexplorations/generating-geojson-file-for-toronto-fsas-9b478a059f04\n",
    "- ontario public health units https://geohub.lio.gov.on.ca/datasets/ministry-of-health-public-health-unit-boundary\n",
    "- more ontario geodatasets https://geohub.lio.gov.on.ca/datasets/11be9127e6ae43c4850793a3a2ee943c_13\n",
    "- potentially a fun shapefile to play with https://data.ontario.ca/dataset/provincially-licensed-meat-plants\n",
    "- ttc shapefile https://open.toronto.ca/dataset/ttc-subway-shapefiles/"
   ]
  },
  {
   "cell_type": "code",
   "execution_count": 6,
   "id": "enhanced-thread",
   "metadata": {},
   "outputs": [],
   "source": [
    "# fix these so geodata can be grabbed directly from ontario data store\n",
    "# import data from the ontario open data API\n",
    "# make sure to check the limit against current cases\n",
    "# geourl = \"https://data.ontario.ca/dataset/f4112442-bdc8-45d2-be3c-12efae72fb27/resource/4f39b02b-47fe-4e66-95b6-e6da879c6910/download/conposcovidloc.geojson\"\n",
    "# response = urllib.request.urlopen(geourl)\n",
    "# data = json.loads(response.read().decode('utf-8'))\n",
    "\n",
    "# geojson from ontario \n",
    "# https://data.ontario.ca/dataset/confirmed-positive-cases-of-covid-19-in-ontario\n",
    "# https://data.ontario.ca/dataset/confirmed-positive-cases-of-covid-19-in-ontario/resource/4f39b02b-47fe-4e66-95b6-e6da879c6910\n",
    "\n",
    "# with urllib.request.urlopen(\"https://data.ontario.ca/dataset/f4112442-bdc8-45d2-be3c-12efae72fb27/resource/4f39b02b-47fe-4e66-95b6-e6da879c6910/download/conposcovidloc.geojson\") as url:\n",
    "#    fileobj = url.read()\n",
    "#    print(fileobj)\n",
    "\n",
    "# use this if you want to see the json\n",
    "# print (data)\n",
    "\n",
    "# use this if you want to write it to a pandas dataframe\n",
    "# conpos_df = pd.DataFrame(data['result']['records'])"
   ]
  },
  {
   "cell_type": "code",
   "execution_count": 7,
   "id": "dietary-spine",
   "metadata": {},
   "outputs": [],
   "source": [
    "# for accurate daily totals, better to use the \"status of covid cases\" dataset\n",
    "# you'll need to create a new column for daily growth in cases\n",
    "status_df['New Cases'] = status_df['Total Cases'].diff(periods=1).fillna(0)"
   ]
  },
  {
   "cell_type": "code",
   "execution_count": 8,
   "id": "fallen-lodge",
   "metadata": {},
   "outputs": [],
   "source": [
    "# let's slice up our original DF to get counts from each public health unit\n",
    "conpos_df1 = conpos_df[['_id','Reporting_PHU','Outcome1']]"
   ]
  },
  {
   "cell_type": "code",
   "execution_count": 9,
   "id": "social-adapter",
   "metadata": {},
   "outputs": [],
   "source": [
    "# need to fix all these so they write column names properly\n",
    "resolved = conpos_df1[conpos_df1.Outcome1 == 'Resolved'].groupby(['Reporting_PHU']).agg(['count']).drop(['Outcome1'], axis=1)\n",
    "resolved.to_csv('data/ontario_covid_resolved_by_phu.csv')\n",
    "#resolved.head()\n",
    "not_resolved = conpos_df1[conpos_df1.Outcome1 == 'Not Resolved'].groupby(['Reporting_PHU']).agg(['count']).drop(['Outcome1'], axis=1)\n",
    "not_resolved.to_csv('data/ontario_covid_active_by_phu.csv')\n",
    "#not_resolved.head()\n",
    "fatal = conpos_df1[conpos_df1.Outcome1 == 'Fatal'].groupby(['Reporting_PHU']).agg(['count']).drop(['Outcome1'], axis=1)\n",
    "fatal.to_csv('data/ontario_covid_deaths_by_phu.csv')\n",
    "#fatal.head()"
   ]
  },
  {
   "cell_type": "code",
   "execution_count": 10,
   "id": "revolutionary-client",
   "metadata": {},
   "outputs": [],
   "source": [
    "# sudbury, kingston, york, wellington, and huron are all named wrong in the province's PHU shapefile \n",
    "# either fix the shapefile/geojson (done) or rename all of them in the df\n",
    "# conpos_df1[conpos_df1['Reporting_PHU'].str.contains(\"Kingston\")]\n",
    "# e.g.\n",
    "# fix kingston\n",
    "# conpos_df1['Reporting_PHU'] = conpos_df1['Reporting_PHU'].replace('Kingston, Frontenac and Lennox and Addington Health Unit', 'Kingston, Frontenac and Lennox & Addington Public Health Unit')"
   ]
  },
  {
   "cell_type": "code",
   "execution_count": 11,
   "id": "generous-welcome",
   "metadata": {},
   "outputs": [],
   "source": [
    "# filter the whole dataset for deaths\n",
    "deaths = conpos_df[conpos_df.Outcome1 == 'Fatal']\n",
    "deaths.to_csv('data/ontario_conpos_deaths_by_phu.csv')"
   ]
  },
  {
   "cell_type": "code",
   "execution_count": 12,
   "id": "communist-mount",
   "metadata": {},
   "outputs": [
    {
     "data": {
      "text/html": [
       "<div>\n",
       "<style scoped>\n",
       "    .dataframe tbody tr th:only-of-type {\n",
       "        vertical-align: middle;\n",
       "    }\n",
       "\n",
       "    .dataframe tbody tr th {\n",
       "        vertical-align: top;\n",
       "    }\n",
       "\n",
       "    .dataframe thead th {\n",
       "        text-align: right;\n",
       "    }\n",
       "</style>\n",
       "<table border=\"1\" class=\"dataframe\">\n",
       "  <thead>\n",
       "    <tr style=\"text-align: right;\">\n",
       "      <th></th>\n",
       "      <th>Unnamed: 0</th>\n",
       "      <th>_id</th>\n",
       "    </tr>\n",
       "  </thead>\n",
       "  <tbody>\n",
       "    <tr>\n",
       "      <th>0</th>\n",
       "      <td>NaN</td>\n",
       "      <td>count</td>\n",
       "    </tr>\n",
       "    <tr>\n",
       "      <th>1</th>\n",
       "      <td>Reporting_PHU</td>\n",
       "      <td>NaN</td>\n",
       "    </tr>\n",
       "  </tbody>\n",
       "</table>\n",
       "</div>"
      ],
      "text/plain": [
       "      Unnamed: 0    _id\n",
       "0            NaN  count\n",
       "1  Reporting_PHU    NaN"
      ]
     },
     "execution_count": 12,
     "metadata": {},
     "output_type": "execute_result"
    }
   ],
   "source": [
    "# clean up the top row in the csv first\n",
    "active_cases = pd.read_csv(\"data/ontario_covid_active_by_phu.csv\")\n",
    "fatal_cases = pd.read_csv(\"data/ontario_covid_deaths_by_phu.csv\")\n",
    "resolved_cases = pd.read_csv(\"data/ontario_covid_resolved_by_phu.csv\")\n",
    "active_cases.head()"
   ]
  },
  {
   "cell_type": "code",
   "execution_count": 13,
   "id": "colored-chapel",
   "metadata": {},
   "outputs": [
    {
     "ename": "KeyError",
     "evalue": "\"None of ['Reporting_PHU'] are in the columns\"",
     "output_type": "error",
     "traceback": [
      "\u001b[0;31m---------------------------------------------------------------------------\u001b[0m",
      "\u001b[0;31mKeyError\u001b[0m                                  Traceback (most recent call last)",
      "\u001b[0;32m<ipython-input-13-a413c7f35e46>\u001b[0m in \u001b[0;36m<module>\u001b[0;34m\u001b[0m\n\u001b[1;32m      3\u001b[0m \u001b[0mmap_ontario\u001b[0m \u001b[0;34m=\u001b[0m \u001b[0mfolium\u001b[0m\u001b[0;34m.\u001b[0m\u001b[0mMap\u001b[0m\u001b[0;34m(\u001b[0m\u001b[0mlocation\u001b[0m\u001b[0;34m=\u001b[0m\u001b[0;34m[\u001b[0m\u001b[0;36m43.653963\u001b[0m\u001b[0;34m,\u001b[0m \u001b[0;34m-\u001b[0m\u001b[0;36m79.387207\u001b[0m\u001b[0;34m]\u001b[0m\u001b[0;34m,\u001b[0m \u001b[0mzoom_start\u001b[0m\u001b[0;34m=\u001b[0m\u001b[0;36m10\u001b[0m\u001b[0;34m)\u001b[0m\u001b[0;34m\u001b[0m\u001b[0;34m\u001b[0m\u001b[0m\n\u001b[1;32m      4\u001b[0m \u001b[0montario_geo\u001b[0m \u001b[0;34m=\u001b[0m \u001b[0;34m\"./geodata/ontario_phu.geojson\"\u001b[0m\u001b[0;34m\u001b[0m\u001b[0;34m\u001b[0m\u001b[0m\n\u001b[0;32m----> 5\u001b[0;31m folium.Choropleth(\n\u001b[0m\u001b[1;32m      6\u001b[0m     \u001b[0mgeo_data\u001b[0m\u001b[0;34m=\u001b[0m\u001b[0montario_geo\u001b[0m\u001b[0;34m,\u001b[0m\u001b[0;34m\u001b[0m\u001b[0;34m\u001b[0m\u001b[0m\n\u001b[1;32m      7\u001b[0m     \u001b[0mdata\u001b[0m \u001b[0;34m=\u001b[0m \u001b[0mactive_cases\u001b[0m\u001b[0;34m,\u001b[0m\u001b[0;34m\u001b[0m\u001b[0;34m\u001b[0m\u001b[0m\n",
      "\u001b[0;32m~/.local/lib/python3.8/site-packages/folium/features.py\u001b[0m in \u001b[0;36m__init__\u001b[0;34m(self, geo_data, data, columns, key_on, bins, fill_color, nan_fill_color, fill_opacity, nan_fill_opacity, line_color, line_weight, line_opacity, name, legend_name, overlay, control, show, topojson, smooth_factor, highlight, **kwargs)\u001b[0m\n\u001b[1;32m   1198\u001b[0m         \u001b[0;32mif\u001b[0m \u001b[0mhasattr\u001b[0m\u001b[0;34m(\u001b[0m\u001b[0mdata\u001b[0m\u001b[0;34m,\u001b[0m \u001b[0;34m'set_index'\u001b[0m\u001b[0;34m)\u001b[0m\u001b[0;34m:\u001b[0m\u001b[0;34m\u001b[0m\u001b[0;34m\u001b[0m\u001b[0m\n\u001b[1;32m   1199\u001b[0m             \u001b[0;31m# This is a pd.DataFrame\u001b[0m\u001b[0;34m\u001b[0m\u001b[0;34m\u001b[0m\u001b[0;34m\u001b[0m\u001b[0m\n\u001b[0;32m-> 1200\u001b[0;31m             \u001b[0mcolor_data\u001b[0m \u001b[0;34m=\u001b[0m \u001b[0mdata\u001b[0m\u001b[0;34m.\u001b[0m\u001b[0mset_index\u001b[0m\u001b[0;34m(\u001b[0m\u001b[0mcolumns\u001b[0m\u001b[0;34m[\u001b[0m\u001b[0;36m0\u001b[0m\u001b[0;34m]\u001b[0m\u001b[0;34m)\u001b[0m\u001b[0;34m[\u001b[0m\u001b[0mcolumns\u001b[0m\u001b[0;34m[\u001b[0m\u001b[0;36m1\u001b[0m\u001b[0;34m]\u001b[0m\u001b[0;34m]\u001b[0m\u001b[0;34m.\u001b[0m\u001b[0mto_dict\u001b[0m\u001b[0;34m(\u001b[0m\u001b[0;34m)\u001b[0m\u001b[0;34m\u001b[0m\u001b[0;34m\u001b[0m\u001b[0m\n\u001b[0m\u001b[1;32m   1201\u001b[0m         \u001b[0;32melif\u001b[0m \u001b[0mhasattr\u001b[0m\u001b[0;34m(\u001b[0m\u001b[0mdata\u001b[0m\u001b[0;34m,\u001b[0m \u001b[0;34m'to_dict'\u001b[0m\u001b[0;34m)\u001b[0m\u001b[0;34m:\u001b[0m\u001b[0;34m\u001b[0m\u001b[0;34m\u001b[0m\u001b[0m\n\u001b[1;32m   1202\u001b[0m             \u001b[0;31m# This is a pd.Series\u001b[0m\u001b[0;34m\u001b[0m\u001b[0;34m\u001b[0m\u001b[0;34m\u001b[0m\u001b[0m\n",
      "\u001b[0;32m~/.local/lib/python3.8/site-packages/pandas/core/frame.py\u001b[0m in \u001b[0;36mset_index\u001b[0;34m(self, keys, drop, append, inplace, verify_integrity)\u001b[0m\n\u001b[1;32m   4722\u001b[0m \u001b[0;34m\u001b[0m\u001b[0m\n\u001b[1;32m   4723\u001b[0m         \u001b[0;32mif\u001b[0m \u001b[0mmissing\u001b[0m\u001b[0;34m:\u001b[0m\u001b[0;34m\u001b[0m\u001b[0;34m\u001b[0m\u001b[0m\n\u001b[0;32m-> 4724\u001b[0;31m             \u001b[0;32mraise\u001b[0m \u001b[0mKeyError\u001b[0m\u001b[0;34m(\u001b[0m\u001b[0;34mf\"None of {missing} are in the columns\"\u001b[0m\u001b[0;34m)\u001b[0m\u001b[0;34m\u001b[0m\u001b[0;34m\u001b[0m\u001b[0m\n\u001b[0m\u001b[1;32m   4725\u001b[0m \u001b[0;34m\u001b[0m\u001b[0m\n\u001b[1;32m   4726\u001b[0m         \u001b[0;32mif\u001b[0m \u001b[0minplace\u001b[0m\u001b[0;34m:\u001b[0m\u001b[0;34m\u001b[0m\u001b[0;34m\u001b[0m\u001b[0m\n",
      "\u001b[0;31mKeyError\u001b[0m: \"None of ['Reporting_PHU'] are in the columns\""
     ]
    }
   ],
   "source": [
    "# fix the column names in the csv first\n",
    "# explain how to generate the geojson files from shapefiles (and how to align file names with the df)\n",
    "map_ontario = folium.Map(location=[43.653963, -79.387207], zoom_start=10)\n",
    "ontario_geo = \"./geodata/ontario_phu.geojson\"\n",
    "folium.Choropleth(\n",
    "    geo_data=ontario_geo,\n",
    "    data = active_cases,\n",
    "    columns=['Reporting_PHU','count'],\n",
    "    key_on='feature.properties.PHU_NAME_E',\n",
    "    fill_color='YlOrRd',\n",
    "    fill_opacity=0.7, \n",
    "    line_opacity=0.2,\n",
    "    legend_name='Active Cases by Reporting PHU').add_to(map_ontario)   \n",
    "    \n",
    "map_ontario"
   ]
  },
  {
   "cell_type": "code",
   "execution_count": 14,
   "id": "foster-moscow",
   "metadata": {},
   "outputs": [],
   "source": [
    "# some other stuff we can do if we want to merge the phu boundaries with the covid dataset\n",
    "shapefile_data = gpd.read_file(\"geodata/Ministry_of_Health_Public_Health_Unit_Boundary.shp\")\n",
    "#print(shapefile_data)\n",
    "#geojson_data = gpd.read_file(\"geodata/ontario_phu.geojson\")\n",
    "#print(geojson_data)\n",
    "shapefile_raw = pd.DataFrame()\n",
    "shapefile_raw = shapefile_raw.append(shapefile_data)\n",
    "# shapefile_raw.head()"
   ]
  },
  {
   "cell_type": "code",
   "execution_count": 15,
   "id": "super-authorization",
   "metadata": {},
   "outputs": [],
   "source": [
    "# set up this new df for use with kepler\n",
    "kepler_df = conpos_df.drop(columns=['Row_ID', \n",
    "                             'Case_Reported_Date', \n",
    "                             'Test_Reported_Date', \n",
    "                             'Specimen_Date',\n",
    "                             'Reporting_PHU_Address',\n",
    "                             'Reporting_PHU_Postal_Code',\n",
    "                             'Reporting_PHU_Website',\n",
    "                            ])"
   ]
  },
  {
   "cell_type": "code",
   "execution_count": 16,
   "id": "short-anderson",
   "metadata": {},
   "outputs": [],
   "source": [
    "# reconfigure the accurate episode date so we can use with a time slider\n",
    "kepler_df['Accurate_Episode_Date'] = kepler_df['Accurate_Episode_Date'].astype(str) + ' 0:00'"
   ]
  },
  {
   "cell_type": "code",
   "execution_count": 17,
   "id": "divided-fossil",
   "metadata": {},
   "outputs": [
    {
     "data": {
      "text/html": [
       "<div>\n",
       "<style scoped>\n",
       "    .dataframe tbody tr th:only-of-type {\n",
       "        vertical-align: middle;\n",
       "    }\n",
       "\n",
       "    .dataframe tbody tr th {\n",
       "        vertical-align: top;\n",
       "    }\n",
       "\n",
       "    .dataframe thead th {\n",
       "        text-align: right;\n",
       "    }\n",
       "</style>\n",
       "<table border=\"1\" class=\"dataframe\">\n",
       "  <thead>\n",
       "    <tr style=\"text-align: right;\">\n",
       "      <th></th>\n",
       "      <th>_id</th>\n",
       "      <th>Accurate_Episode_Date</th>\n",
       "      <th>Age_Group</th>\n",
       "      <th>Client_Gender</th>\n",
       "      <th>Case_AcquisitionInfo</th>\n",
       "      <th>Outcome1</th>\n",
       "      <th>Outbreak_Related</th>\n",
       "      <th>Reporting_PHU_ID</th>\n",
       "      <th>Reporting_PHU</th>\n",
       "      <th>Reporting_PHU_City</th>\n",
       "      <th>Reporting_PHU_Latitude</th>\n",
       "      <th>Reporting_PHU_Longitude</th>\n",
       "    </tr>\n",
       "  </thead>\n",
       "  <tbody>\n",
       "    <tr>\n",
       "      <th>78360</th>\n",
       "      <td>357584</td>\n",
       "      <td>2021-03-29 0:00</td>\n",
       "      <td>&lt;20</td>\n",
       "      <td>FEMALE</td>\n",
       "      <td>CC</td>\n",
       "      <td>Resolved</td>\n",
       "      <td></td>\n",
       "      <td>2251</td>\n",
       "      <td>Ottawa Public Health</td>\n",
       "      <td>Ottawa</td>\n",
       "      <td>45.345665</td>\n",
       "      <td>-75.763912</td>\n",
       "    </tr>\n",
       "    <tr>\n",
       "      <th>77862</th>\n",
       "      <td>357583</td>\n",
       "      <td>2021-03-29 0:00</td>\n",
       "      <td>&lt;20</td>\n",
       "      <td>FEMALE</td>\n",
       "      <td>CC</td>\n",
       "      <td>Resolved</td>\n",
       "      <td></td>\n",
       "      <td>2251</td>\n",
       "      <td>Ottawa Public Health</td>\n",
       "      <td>Ottawa</td>\n",
       "      <td>45.345665</td>\n",
       "      <td>-75.763912</td>\n",
       "    </tr>\n",
       "    <tr>\n",
       "      <th>77649</th>\n",
       "      <td>357582</td>\n",
       "      <td>2021-03-29 0:00</td>\n",
       "      <td>&lt;20</td>\n",
       "      <td>FEMALE</td>\n",
       "      <td>CC</td>\n",
       "      <td>Resolved</td>\n",
       "      <td></td>\n",
       "      <td>2251</td>\n",
       "      <td>Ottawa Public Health</td>\n",
       "      <td>Ottawa</td>\n",
       "      <td>45.345665</td>\n",
       "      <td>-75.763912</td>\n",
       "    </tr>\n",
       "    <tr>\n",
       "      <th>77457</th>\n",
       "      <td>357581</td>\n",
       "      <td>2021-03-29 0:00</td>\n",
       "      <td>&lt;20</td>\n",
       "      <td>FEMALE</td>\n",
       "      <td>CC</td>\n",
       "      <td>Resolved</td>\n",
       "      <td></td>\n",
       "      <td>2251</td>\n",
       "      <td>Ottawa Public Health</td>\n",
       "      <td>Ottawa</td>\n",
       "      <td>45.345665</td>\n",
       "      <td>-75.763912</td>\n",
       "    </tr>\n",
       "    <tr>\n",
       "      <th>77229</th>\n",
       "      <td>347809</td>\n",
       "      <td>2021-03-25 0:00</td>\n",
       "      <td>&lt;20</td>\n",
       "      <td>FEMALE</td>\n",
       "      <td>CC</td>\n",
       "      <td>Resolved</td>\n",
       "      <td></td>\n",
       "      <td>2261</td>\n",
       "      <td>Sudbury &amp; District Health Unit</td>\n",
       "      <td>Sudbury</td>\n",
       "      <td>46.466092</td>\n",
       "      <td>-80.998059</td>\n",
       "    </tr>\n",
       "  </tbody>\n",
       "</table>\n",
       "</div>"
      ],
      "text/plain": [
       "          _id Accurate_Episode_Date Age_Group Client_Gender  \\\n",
       "78360  357584       2021-03-29 0:00       <20        FEMALE   \n",
       "77862  357583       2021-03-29 0:00       <20        FEMALE   \n",
       "77649  357582       2021-03-29 0:00       <20        FEMALE   \n",
       "77457  357581       2021-03-29 0:00       <20        FEMALE   \n",
       "77229  347809       2021-03-25 0:00       <20        FEMALE   \n",
       "\n",
       "      Case_AcquisitionInfo  Outcome1 Outbreak_Related  Reporting_PHU_ID  \\\n",
       "78360                   CC  Resolved                               2251   \n",
       "77862                   CC  Resolved                               2251   \n",
       "77649                   CC  Resolved                               2251   \n",
       "77457                   CC  Resolved                               2251   \n",
       "77229                   CC  Resolved                               2261   \n",
       "\n",
       "                        Reporting_PHU Reporting_PHU_City  \\\n",
       "78360            Ottawa Public Health             Ottawa   \n",
       "77862            Ottawa Public Health             Ottawa   \n",
       "77649            Ottawa Public Health             Ottawa   \n",
       "77457            Ottawa Public Health             Ottawa   \n",
       "77229  Sudbury & District Health Unit            Sudbury   \n",
       "\n",
       "       Reporting_PHU_Latitude  Reporting_PHU_Longitude  \n",
       "78360               45.345665               -75.763912  \n",
       "77862               45.345665               -75.763912  \n",
       "77649               45.345665               -75.763912  \n",
       "77457               45.345665               -75.763912  \n",
       "77229               46.466092               -80.998059  "
      ]
     },
     "execution_count": 17,
     "metadata": {},
     "output_type": "execute_result"
    }
   ],
   "source": [
    "kepler_df.head()"
   ]
  },
  {
   "cell_type": "code",
   "execution_count": 18,
   "id": "supposed-satellite",
   "metadata": {},
   "outputs": [],
   "source": [
    "#kepler_covid_df = pd.merge(shapefile_raw,df, on=['PHU'])"
   ]
  },
  {
   "cell_type": "code",
   "execution_count": 19,
   "id": "formed-maria",
   "metadata": {},
   "outputs": [
    {
     "name": "stdout",
     "output_type": "stream",
     "text": [
      "User Guide: https://docs.kepler.gl/docs/keplergl-jupyter\n"
     ]
    },
    {
     "data": {
      "application/vnd.jupyter.widget-view+json": {
       "model_id": "a71abe17d4ae4da5ab59f8ff420e0fa3",
       "version_major": 2,
       "version_minor": 0
      },
      "text/plain": [
       "KeplerGl(data={'df':           _id Accurate_Episode_Date Age_Group Client_Gender  \\\n",
       "78360  357584       2021-0…"
      ]
     },
     "metadata": {},
     "output_type": "display_data"
    }
   ],
   "source": [
    "kepler_map = KeplerGl(height = 800, data={'df': kepler_df})\n",
    "# uncomment this to use a specific kepler config file                      , config=current_config)\n",
    "# current_config = kepler_map.config\n",
    "kepler_map"
   ]
  },
  {
   "cell_type": "code",
   "execution_count": 20,
   "id": "thrown-share",
   "metadata": {},
   "outputs": [],
   "source": [
    "# use this to get the kepler config\n",
    "current_config = kepler_map.config"
   ]
  },
  {
   "cell_type": "code",
   "execution_count": 21,
   "id": "tribal-breathing",
   "metadata": {},
   "outputs": [
    {
     "name": "stdout",
     "output_type": "stream",
     "text": [
      "Map saved to html/kepler_map.html!\n"
     ]
    }
   ],
   "source": [
    "# use to save to html file\n",
    "\n",
    "kepler_map.save_to_html(data={'df': kepler_df}, config=current_config, file_name=\"html/kepler_map.html\")"
   ]
  },
  {
   "cell_type": "code",
   "execution_count": null,
   "id": "e63ee659-81c9-454a-8f70-13b3aed1acfd",
   "metadata": {},
   "outputs": [],
   "source": []
  }
 ],
 "metadata": {
  "kernelspec": {
   "display_name": "Python 3",
   "language": "python",
   "name": "python3"
  },
  "language_info": {
   "codemirror_mode": {
    "name": "ipython",
    "version": 3
   },
   "file_extension": ".py",
   "mimetype": "text/x-python",
   "name": "python",
   "nbconvert_exporter": "python",
   "pygments_lexer": "ipython3",
   "version": "3.8.10"
  }
 },
 "nbformat": 4,
 "nbformat_minor": 5
}
